{
 "cells": [
  {
   "cell_type": "code",
   "execution_count": 1,
   "metadata": {},
   "outputs": [],
   "source": [
    "import cobra\n",
    "import cobra.manipulation\n",
    "from cobra.io import load_model"
   ]
  },
  {
   "cell_type": "code",
   "execution_count": 2,
   "metadata": {},
   "outputs": [],
   "source": [
    "model = load_model('textbook') #loads the test model, 'textbook' is E. Coli's core metabolism"
   ]
  },
  {
   "cell_type": "code",
   "execution_count": 3,
   "metadata": {},
   "outputs": [
    {
     "name": "stdout",
     "output_type": "stream",
     "text": [
      "95\n",
      "72\n",
      "137\n"
     ]
    }
   ],
   "source": [
    "print(len(model.reactions)) #prints number of reactions, metabolites, and genes, as objects within the cobra.Dictlist (which is 'model' in this case)\n",
    "print(len(model.metabolites))\n",
    "print(len(model.genes))"
   ]
  },
  {
   "cell_type": "code",
   "execution_count": 4,
   "metadata": {},
   "outputs": [
    {
     "data": {
      "text/html": [
       "\n",
       "        <table>\n",
       "            <tr>\n",
       "                <td><strong>Name</strong></td>\n",
       "                <td>e_coli_core</td>\n",
       "            </tr><tr>\n",
       "                <td><strong>Memory address</strong></td>\n",
       "                <td>7f427c54e810</td>\n",
       "            </tr><tr>\n",
       "                <td><strong>Number of metabolites</strong></td>\n",
       "                <td>72</td>\n",
       "            </tr><tr>\n",
       "                <td><strong>Number of reactions</strong></td>\n",
       "                <td>95</td>\n",
       "            </tr><tr>\n",
       "                <td><strong>Number of genes</strong></td>\n",
       "                <td>137</td>\n",
       "            </tr><tr>\n",
       "                <td><strong>Number of groups</strong></td>\n",
       "                <td>0</td>\n",
       "            </tr><tr>\n",
       "                <td><strong>Objective expression</strong></td>\n",
       "                <td>1.0*Biomass_Ecoli_core - 1.0*Biomass_Ecoli_core_reverse_2cdba</td>\n",
       "            </tr><tr>\n",
       "                <td><strong>Compartments</strong></td>\n",
       "                <td>cytosol, extracellular</td>\n",
       "            </tr>\n",
       "          </table>"
      ],
      "text/plain": [
       "<Model e_coli_core at 0x7f427c54e810>"
      ]
     },
     "execution_count": 4,
     "metadata": {},
     "output_type": "execute_result"
    }
   ],
   "source": [
    "model"
   ]
  },
  {
   "cell_type": "code",
   "execution_count": 5,
   "metadata": {},
   "outputs": [
    {
     "data": {
      "text/html": [
       "\n",
       "        <table>\n",
       "            <tr>\n",
       "                <td><strong>Reaction identifier</strong></td><td>EX_glu__L_e</td>\n",
       "            </tr><tr>\n",
       "                <td><strong>Name</strong></td><td>L-Glutamate exchange</td>\n",
       "            </tr><tr>\n",
       "                <td><strong>Memory address</strong></td>\n",
       "                <td>0x7f420f3b01d0</td>\n",
       "            </tr><tr>\n",
       "                <td><strong>Stoichiometry</strong></td>\n",
       "                <td>\n",
       "                    <p style='text-align:right'>glu__L_e --></p>\n",
       "                    <p style='text-align:right'>L-Glutamate --></p>\n",
       "                </td>\n",
       "            </tr><tr>\n",
       "                <td><strong>GPR</strong></td><td></td>\n",
       "            </tr><tr>\n",
       "                <td><strong>Lower bound</strong></td><td>0.0</td>\n",
       "            </tr><tr>\n",
       "                <td><strong>Upper bound</strong></td><td>1000.0</td>\n",
       "            </tr>\n",
       "        </table>\n",
       "        "
      ],
      "text/plain": [
       "<Reaction EX_glu__L_e at 0x7f420f3b01d0>"
      ]
     },
     "execution_count": 5,
     "metadata": {},
     "output_type": "execute_result"
    }
   ],
   "source": [
    "model.reactions[29] #gets 30th reaction in the model"
   ]
  },
  {
   "cell_type": "code",
   "execution_count": 6,
   "metadata": {},
   "outputs": [
    {
     "data": {
      "text/html": [
       "\n",
       "        <table>\n",
       "            <tr>\n",
       "                <td><strong>Metabolite identifier</strong></td><td>atp_c</td>\n",
       "            </tr><tr>\n",
       "                <td><strong>Name</strong></td><td>ATP</td>\n",
       "            </tr><tr>\n",
       "                <td><strong>Memory address</strong></td>\n",
       "                <td>0x7f420f480fb0</td>\n",
       "            </tr><tr>\n",
       "                <td><strong>Formula</strong></td><td>C10H12N5O13P3</td>\n",
       "            </tr><tr>\n",
       "                <td><strong>Compartment</strong></td><td>c</td>\n",
       "            </tr><tr>\n",
       "                <td><strong>In 13 reaction(s)</strong></td><td>\n",
       "                    GLNS, PPS, Biomass_Ecoli_core, GLNabc, ACKr, ATPM, PGK, SUCOAS, ADK1, ATPS4r, PYK, PFK, PPCK\n",
       "                    </td>\n",
       "            </tr>\n",
       "        </table>"
      ],
      "text/plain": [
       "<Metabolite atp_c at 0x7f420f480fb0>"
      ]
     },
     "execution_count": 6,
     "metadata": {},
     "output_type": "execute_result"
    }
   ],
   "source": [
    "model.metabolites.get_by_id('atp_c') #retrieves items by id. \n"
   ]
  },
  {
   "cell_type": "markdown",
   "metadata": {},
   "source": [
    "### Reactions"
   ]
  },
  {
   "cell_type": "code",
   "execution_count": 7,
   "metadata": {},
   "outputs": [
    {
     "name": "stdout",
     "output_type": "stream",
     "text": [
      "glucose-6-phosphate isomerase\n",
      "g6p_c <=> f6p_c\n",
      "-1000.0 1000.0\n",
      "True\n"
     ]
    }
   ],
   "source": [
    "pgi = model.reactions.get_by_id('PGI') #gives table of information on the enzyme and reaction\n",
    "print(pgi.name) #just gives the name\n",
    "print(pgi.reaction) #just gives the reaction\n",
    "print(pgi.lower_bound, pgi.upper_bound) #lower bound is less than zero indicates a reversible reaction. Bounds are the constraints applied to the flux of a biochemical reaction, defining the minimum and maximum allowable rates the reaction can occur\n",
    "print(pgi.reversibility)\n",
    "pgi.bounds = (-1000.0, 1000.0) #creates new bounds for the reaction \n"
   ]
  },
  {
   "cell_type": "code",
   "execution_count": 8,
   "metadata": {},
   "outputs": [
    {
     "data": {
      "text/plain": [
       "{}"
      ]
     },
     "execution_count": 8,
     "metadata": {},
     "output_type": "execute_result"
    }
   ],
   "source": [
    "pgi.check_mass_balance() #checks if the reaction is balanced. Returns an empty bracket if there are no errors.  "
   ]
  },
  {
   "cell_type": "code",
   "execution_count": 9,
   "metadata": {},
   "outputs": [
    {
     "name": "stdout",
     "output_type": "stream",
     "text": [
      "g6p_c + h_c <=> f6p_c\n",
      "{'charge': -1.0, 'H': -1.0}\n"
     ]
    }
   ],
   "source": [
    "pgi.add_metabolites({model.metabolites.get_by_id('h_c'): -1}) #adds a metabolite in, with a given charge \n",
    "print(pgi.reaction)\n",
    "print(pgi.check_mass_balance()) #reaction after addition is not balanced"
   ]
  },
  {
   "cell_type": "code",
   "execution_count": 10,
   "metadata": {},
   "outputs": [
    {
     "name": "stdout",
     "output_type": "stream",
     "text": [
      "g6p_c <=> f6p_c\n",
      "{}\n"
     ]
    }
   ],
   "source": [
    "pgi.subtract_metabolites({model.metabolites.get_by_id('h_c'): -1}) #removes the metabolite and rebalances the reaction \n",
    "print(pgi.reaction)\n",
    "print(pgi.check_mass_balance())"
   ]
  },
  {
   "cell_type": "markdown",
   "metadata": {},
   "source": [
    "### Metabolites"
   ]
  },
  {
   "cell_type": "code",
   "execution_count": 11,
   "metadata": {},
   "outputs": [
    {
     "data": {
      "text/html": [
       "\n",
       "        <table>\n",
       "            <tr>\n",
       "                <td><strong>Metabolite identifier</strong></td><td>atp_c</td>\n",
       "            </tr><tr>\n",
       "                <td><strong>Name</strong></td><td>ATP</td>\n",
       "            </tr><tr>\n",
       "                <td><strong>Memory address</strong></td>\n",
       "                <td>0x7f420f480fb0</td>\n",
       "            </tr><tr>\n",
       "                <td><strong>Formula</strong></td><td>C10H12N5O13P3</td>\n",
       "            </tr><tr>\n",
       "                <td><strong>Compartment</strong></td><td>c</td>\n",
       "            </tr><tr>\n",
       "                <td><strong>In 13 reaction(s)</strong></td><td>\n",
       "                    GLNS, PPS, Biomass_Ecoli_core, GLNabc, ACKr, ATPM, PGK, SUCOAS, ADK1, ATPS4r, PYK, PFK, PPCK\n",
       "                    </td>\n",
       "            </tr>\n",
       "        </table>"
      ],
      "text/plain": [
       "<Metabolite atp_c at 0x7f420f480fb0>"
      ]
     },
     "execution_count": 11,
     "metadata": {},
     "output_type": "execute_result"
    }
   ],
   "source": [
    "atp = model.metabolites.get_by_id(\"atp_c\") #retrieves atp metabolite. In this case, \n",
    "atp"
   ]
  },
  {
   "cell_type": "code",
   "execution_count": 12,
   "metadata": {},
   "outputs": [
    {
     "name": "stdout",
     "output_type": "stream",
     "text": [
      "ATP\n",
      "c\n",
      "-4\n",
      "C10H12N5O13P3\n",
      "frozenset({<Reaction GLNS at 0x7f420f3b3800>, <Reaction PPS at 0x7f420f35fa10>, <Reaction Biomass_Ecoli_core at 0x7f420f40c230>, <Reaction GLNabc at 0x7f420f3b3e30>, <Reaction ACKr at 0x7f420fcfec90>, <Reaction ATPM at 0x7f420f40c8c0>, <Reaction PGK at 0x7f420f35e2d0>, <Reaction SUCOAS at 0x7f420f1494c0>, <Reaction ADK1 at 0x7f420f3e3b00>, <Reaction ATPS4r at 0x7f420f40cd10>, <Reaction PYK at 0x7f420f148380>, <Reaction PFK at 0x7f420f35d3a0>, <Reaction PPCK at 0x7f420f35f5c0>})\n"
     ]
    }
   ],
   "source": [
    "print(atp.name)\n",
    "print(atp.compartment) #the compartment in this case is where the metabolite is located, c = cytosol \n",
    "print(atp.charge)\n",
    "print(atp.formula)\n",
    "print(atp.reactions) #all the reactions ATP is involved in"
   ]
  },
  {
   "cell_type": "markdown",
   "metadata": {},
   "source": [
    "### Genes"
   ]
  },
  {
   "cell_type": "code",
   "execution_count": 13,
   "metadata": {},
   "outputs": [
    {
     "name": "stdout",
     "output_type": "stream",
     "text": [
      "b4025\n",
      "b4025\n"
     ]
    },
    {
     "data": {
      "text/plain": [
       "frozenset({<Reaction PGI at 0x7f420f35df10>})"
      ]
     },
     "execution_count": 13,
     "metadata": {},
     "output_type": "execute_result"
    }
   ],
   "source": [
    "gpr = pgi.gpr #gives the gene-protein-reaction relationship. In this case, the gene is b4025\n",
    "print(gpr)\n",
    "gpr_string = pgi.gene_reaction_rule #this gives the gene as a string. Might be useful....\n",
    "print(gpr_string)\n",
    "pgi_gene = model.genes.get_by_id('b4025')\n",
    "pgi_gene.reactions #reaction asociated with b4025"
   ]
  },
  {
   "cell_type": "code",
   "execution_count": 14,
   "metadata": {},
   "outputs": [
    {
     "name": "stdout",
     "output_type": "stream",
     "text": [
      "frozenset({<Gene eggs at 0x7f420f3b1e80>, <Gene spam at 0x7f427c579010>})\n"
     ]
    },
    {
     "data": {
      "text/plain": [
       "frozenset()"
      ]
     },
     "execution_count": 14,
     "metadata": {},
     "output_type": "execute_result"
    }
   ],
   "source": [
    "pgi.gene_reaction_rule = \"(spam or eggs)\" #changes the gene reaction rule. This syntax is necessary. \n",
    "print(pgi.genes)\n",
    "pgi_gene.reactions #shows there's no reaction associated with the new gene"
   ]
  },
  {
   "cell_type": "code",
   "execution_count": 15,
   "metadata": {},
   "outputs": [
    {
     "data": {
      "text/html": [
       "\n",
       "        <table>\n",
       "            <tr>\n",
       "                <td><strong>Gene identifier</strong></td><td>spam</td>\n",
       "            </tr><tr>\n",
       "                <td><strong>Name</strong></td><td></td>\n",
       "            </tr><tr>\n",
       "                <td><strong>Memory address</strong></td>\n",
       "                <td>0x7f427c579010</td>\n",
       "            </tr><tr>\n",
       "                <td><strong>Functional</strong></td><td>True</td>\n",
       "            </tr><tr>\n",
       "                <td><strong>In 1 reaction(s)</strong></td><td>\n",
       "                    PGI\n",
       "                    </td>\n",
       "            </tr>\n",
       "        </table>"
      ],
      "text/plain": [
       "<Gene spam at 0x7f427c579010>"
      ]
     },
     "execution_count": 15,
     "metadata": {},
     "output_type": "execute_result"
    }
   ],
   "source": [
    "model.genes.get_by_id('spam')"
   ]
  },
  {
   "cell_type": "markdown",
   "metadata": {},
   "source": [
    "### Gene Knockouts"
   ]
  },
  {
   "cell_type": "code",
   "execution_count": 16,
   "metadata": {},
   "outputs": [
    {
     "name": "stdout",
     "output_type": "stream",
     "text": [
      "after 1 KO: -1000 < flux_PGI < 1000\n",
      "after 2 KO:     0 < flux_PGI <    0\n"
     ]
    }
   ],
   "source": [
    "cobra.manipulation.knock_out_model_genes(model, [\"spam\"]) #knocks out the gene 'spam'\n",
    "print(\"after 1 KO: %4d < flux_PGI < %4d\" % (pgi.lower_bound, pgi.upper_bound)) #prints the new bounds of the flux (rates of reactions in model) after knockout\n",
    "\n",
    "cobra.manipulation.knock_out_model_genes(model, [\"eggs\"])\n",
    "print(\"after 2 KO:  %4d < flux_PGI < %4d\" % (pgi.lower_bound, pgi.upper_bound)) #zero flux means the reaction is not occuring. "
   ]
  },
  {
   "cell_type": "code",
   "execution_count": 17,
   "metadata": {},
   "outputs": [
    {
     "name": "stdout",
     "output_type": "stream",
     "text": [
      "ACALD blocked (bounds: (0, 0)), new growth rate 0.873922\n",
      "ACALDt blocked (bounds: (0, 0)), new growth rate 0.873922\n",
      "ACKr blocked (bounds: (0, 0)), new growth rate 0.873922\n",
      "ACONTa blocked (bounds: (0, 0)), new growth rate -0.000000\n",
      "ACONTb blocked (bounds: (0, 0)), new growth rate -0.000000\n"
     ]
    }
   ],
   "source": [
    "model = load_model('textbook') #resets the model to the original\n",
    "for reaction in model.reactions[:5]: #A normal for loop, saying for each item in the list of reactions from 0 to 4, \n",
    "    with model as model: #creates a context manager -> temporarily allows for manipulating the model without changing it permenantly, i.e. the model goes back to normal after the block is executed. \n",
    "        reaction.knock_out() #knocks out each reaction \n",
    "        model.optimize() #\n",
    "        print('%s blocked (bounds: %s), new growth rate %f' % #all these strange percentages are placeholders for the variables given in the next line. %s is a string, %f is a float\n",
    "            (reaction.id, str(reaction.bounds), model.objective.value)) #objective function in this case is the growth rate of the model. It can be changed\n",
    "    \n"
   ]
  },
  {
   "cell_type": "code",
   "execution_count": 18,
   "metadata": {},
   "outputs": [
    {
     "data": {
      "text/plain": [
       "[(-1000.0, 1000.0),\n",
       " (-1000.0, 1000.0),\n",
       " (-1000.0, 1000.0),\n",
       " (-1000.0, 1000.0),\n",
       " (-1000.0, 1000.0)]"
      ]
     },
     "execution_count": 18,
     "metadata": {},
     "output_type": "execute_result"
    }
   ],
   "source": [
    "[reaction.bounds for reaction in model.reactions[:5]] #all model bounds have been reverted back to normal"
   ]
  },
  {
   "cell_type": "code",
   "execution_count": 19,
   "metadata": {},
   "outputs": [
    {
     "name": "stdout",
     "output_type": "stream",
     "text": [
      "1.0*Biomass_Ecoli_core - 1.0*Biomass_Ecoli_core_reverse_2cdba\n"
     ]
    }
   ],
   "source": [
    "print(model.objective.expression) #shows the objective function of the model\n",
    "#1.0*Biomass_Ecoli_core - 1.0*Biomass_Ecoli_core_reverse_2cdba means maximize (1) the flux through the biomass_Ecoli_core reaction and minimize (-1) the flux through the biomass core reverse reaction"
   ]
  },
  {
   "cell_type": "code",
   "execution_count": 20,
   "metadata": {},
   "outputs": [
    {
     "name": "stdout",
     "output_type": "stream",
     "text": [
      "print objective in first context: 1.0*ATPM - 1.0*ATPM_reverse_5b752\n",
      "print objective in second context: 1.0*ACALD - 1.0*ACALD_reverse_fda2b\n",
      "objective after exiting second context: 1.0*ATPM - 1.0*ATPM_reverse_5b752\n",
      "back to original objective: 1.0*Biomass_Ecoli_core - 1.0*Biomass_Ecoli_core_reverse_2cdba\n"
     ]
    }
   ],
   "source": [
    "with model: #context manager\n",
    "    model.objective = 'ATPM' #sets the objective function to the reaction with id ATPM, which optimizes the flux through the ATP maintenance reaction\n",
    "    print('print objective in first context:', model.objective.expression) \n",
    "    with model:\n",
    "        model.objective = 'ACALD'\n",
    "        print('print objective in second context:', model.objective.expression)\n",
    "    print('objective after exiting second context:',\n",
    "          model.objective.expression)\n",
    "print('back to original objective:', model.objective.expression)\n",
    "\n",
    "#What this does is show an example of changing contexts within a model. One could change the context of the objective function, change the reaction, see the output, and do that sequentially"
   ]
  },
  {
   "cell_type": "code",
   "execution_count": 21,
   "metadata": {},
   "outputs": [
    {
     "data": {
      "text/html": [
       "\n",
       "        <table>\n",
       "            <tr>\n",
       "                <td><strong>Reaction identifier</strong></td><td>ATPM</td>\n",
       "            </tr><tr>\n",
       "                <td><strong>Name</strong></td><td>ATP maintenance requirement</td>\n",
       "            </tr><tr>\n",
       "                <td><strong>Memory address</strong></td>\n",
       "                <td>0x7f420f2974a0</td>\n",
       "            </tr><tr>\n",
       "                <td><strong>Stoichiometry</strong></td>\n",
       "                <td>\n",
       "                    <p style='text-align:right'>atp_c + h2o_c --> adp_c + h_c + pi_c</p>\n",
       "                    <p style='text-align:right'>ATP + H2O --> ADP + H+ + Phosphate</p>\n",
       "                </td>\n",
       "            </tr><tr>\n",
       "                <td><strong>GPR</strong></td><td></td>\n",
       "            </tr><tr>\n",
       "                <td><strong>Lower bound</strong></td><td>8.39</td>\n",
       "            </tr><tr>\n",
       "                <td><strong>Upper bound</strong></td><td>1000.0</td>\n",
       "            </tr>\n",
       "        </table>\n",
       "        "
      ],
      "text/plain": [
       "<Reaction ATPM at 0x7f420f2974a0>"
      ]
     },
     "execution_count": 21,
     "metadata": {},
     "output_type": "execute_result"
    }
   ],
   "source": [
    "atpm = model.reactions.get_by_id('ATPM')\n",
    "atpm"
   ]
  },
  {
   "cell_type": "code",
   "execution_count": null,
   "metadata": {},
   "outputs": [],
   "source": []
  }
 ],
 "metadata": {
  "kernelspec": {
   "display_name": "Python 3",
   "language": "python",
   "name": "python3"
  },
  "language_info": {
   "codemirror_mode": {
    "name": "ipython",
    "version": 3
   },
   "file_extension": ".py",
   "mimetype": "text/x-python",
   "name": "python",
   "nbconvert_exporter": "python",
   "pygments_lexer": "ipython3",
   "version": "3.12.1"
  }
 },
 "nbformat": 4,
 "nbformat_minor": 2
}
